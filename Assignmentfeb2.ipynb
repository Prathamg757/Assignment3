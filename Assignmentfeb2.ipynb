{
 "cells": [
  {
   "cell_type": "code",
   "execution_count": 2,
   "id": "753a0958-44cb-45cf-b9da-f54f0bde76fa",
   "metadata": {},
   "outputs": [
    {
     "name": "stdout",
     "output_type": "stream",
     "text": [
      "0\n",
      "1\n",
      "2\n",
      "3\n",
      "4\n",
      "5\n",
      "6\n",
      "7\n",
      "8\n",
      "9\n",
      "10\n",
      "11\n",
      "12\n",
      "13\n",
      "14\n",
      "15\n",
      "16\n",
      "17\n",
      "18\n",
      "19\n"
     ]
    }
   ],
   "source": [
    "#solution 1\n",
    "'''\n",
    "                                for loop\n",
    "A for loop is a type of loop that runs for a preset number of times.\n",
    "It also has the ability to iterate over the items of any sequence, \n",
    "such as a list or a string.'''\n",
    "\n",
    "for i in range(10):  # collection of numbers from 0 to 9\n",
    "    print(i)\n",
    "    \n",
    "'''                            while loop\n",
    "With the while loop, we can execute a block of code as long as a condition is true.'''\n",
    "\n",
    "n = 10\n",
    "while n < 20: # while n is less than 10,\n",
    "    print(n) # print out the value of n \n",
    "    n += 1 "
   ]
  },
  {
   "cell_type": "code",
   "execution_count": 1,
   "id": "a42aeead-d022-4353-9b41-113be2e5bbf3",
   "metadata": {},
   "outputs": [
    {
     "name": "stdout",
     "output_type": "stream",
     "text": [
      "sum of the 10 natural number using for loop 55\n"
     ]
    }
   ],
   "source": [
    "#solution 2\n",
    "\n",
    "#program to print the sum and product of 10 natural number using for and while loop\n",
    "sum=0\n",
    "for i in range(1,11):\n",
    "    sum= sum+i\n",
    "print(\"sum of the 10 natural number using for loop\",sum)\n"
   ]
  },
  {
   "cell_type": "code",
   "execution_count": 3,
   "id": "de4dd05a-d488-425c-ba6b-31e7a082eaab",
   "metadata": {},
   "outputs": [
    {
     "name": "stdout",
     "output_type": "stream",
     "text": [
      "sum of the 10 natural number using while loop 55\n"
     ]
    }
   ],
   "source": [
    "\n",
    "n=0\n",
    "st=1\n",
    "while st<=10:\n",
    "    n=n+st\n",
    "    st=st+1\n",
    "print(\"sum of the 10 natural number using while loop\",n)"
   ]
  },
  {
   "cell_type": "code",
   "execution_count": 6,
   "id": "1bf23d69-bd97-497d-8e0f-9f7d6b013ff9",
   "metadata": {},
   "outputs": [
    {
     "name": "stdout",
     "output_type": "stream",
     "text": [
      "product of 10 natural number using while loop 3628800\n"
     ]
    }
   ],
   "source": [
    "n=1\n",
    "result=1\n",
    "while n<=10:\n",
    "    result=result*n\n",
    "    n=n+1\n",
    "print(\"product of 10 natural number using while loop\",result)"
   ]
  },
  {
   "cell_type": "code",
   "execution_count": 9,
   "id": "8e5338cd-7fa9-4de8-85ac-3ecea4da7792",
   "metadata": {},
   "outputs": [
    {
     "name": "stdout",
     "output_type": "stream",
     "text": [
      "product of 10 natural number using for loop is 3628800\n"
     ]
    }
   ],
   "source": [
    "n=1\n",
    "for i in range(1,11):\n",
    "    n=n*i\n",
    "print(\"product of 10 natural number using for loop is\",n)"
   ]
  },
  {
   "cell_type": "code",
   "execution_count": 12,
   "id": "6e4e7e61-771e-4fc4-9a9c-17585ce06b11",
   "metadata": {},
   "outputs": [
    {
     "name": "stdin",
     "output_type": "stream",
     "text": [
      "Enter the no.of units consumed in last month : 310\n"
     ]
    },
    {
     "name": "stdout",
     "output_type": "stream",
     "text": [
      "the total electricity bill is  2250.0\n"
     ]
    }
   ],
   "source": [
    "#solution 3\n",
    "unit=int(input(\"Enter the no.of units consumed in last month :\"))\n",
    "price = 0\n",
    "if unit<= 100:\n",
    "    price =(4.5 * unit)\n",
    "elif unit>100 and unit<=200:\n",
    "    price =4.5*100+6*(unit-100)\n",
    "elif unit>200 and unit<=300:\n",
    "    price=4.5*100+6*100+10*(unit-200)\n",
    "else:\n",
    "    price=4.5*100+6*100+10*100+20*(unit-300)\n",
    "print(\"the total electricity bill is \",price)"
   ]
  },
  {
   "cell_type": "code",
   "execution_count": 1,
   "id": "387c855c-7687-47e7-8e6f-df86f690c5ab",
   "metadata": {},
   "outputs": [
    {
     "name": "stdout",
     "output_type": "stream",
     "text": [
      "[2, 4, 5, 6, 8, 10, 12, 14, 15, 16, 18, 20, 22, 24, 25, 26, 28, 30, 32, 34, 35, 36, 38, 40, 42, 44, 45, 46, 48, 50, 52, 54, 55, 56, 58, 60, 62, 64, 65, 66, 68, 70, 72, 74, 75, 76, 78, 80, 82, 84, 85, 86, 88, 90, 92, 94, 95, 96, 98, 100]\n"
     ]
    }
   ],
   "source": [
    "#solution 4\n",
    "l=[]\n",
    "a=list(range(1,101))\n",
    "for i in a:\n",
    "    cube=i**3\n",
    "    if cube%4==0 or cube%5==0:\n",
    "        l.append(i)\n",
    "print(l)"
   ]
  },
  {
   "cell_type": "code",
   "execution_count": null,
   "id": "6aa245b4-69fe-4c42-938e-a293e6ad9500",
   "metadata": {},
   "outputs": [],
   "source": [
    "l1=[]\n",
    "i=1\n",
    "cube=0\n",
    "while i<101:\n",
    "    cube=i**3\n",
    "    if cube%4==0 or cube%5==0:\n",
    "        l1.append(i)\n",
    "        i+=1\n",
    "print(l1)"
   ]
  },
  {
   "cell_type": "code",
   "execution_count": 1,
   "id": "b5f4f473-1d0f-44cf-9135-4c2de376333b",
   "metadata": {},
   "outputs": [
    {
     "name": "stdout",
     "output_type": "stream",
     "text": [
      "no of vowels = 12\n"
     ]
    }
   ],
   "source": [
    "str=\"I want to become a data scientist\"\n",
    "count=0\n",
    "for x in str:\n",
    "    if x.lower() in['a','e','i','o','u']:\n",
    "        count +=1\n",
    "        \n",
    "        \n",
    "print('no of vowels =',count)"
   ]
  },
  {
   "cell_type": "code",
   "execution_count": null,
   "id": "08e61bc2-1065-442d-9802-cffd927c624f",
   "metadata": {},
   "outputs": [],
   "source": []
  }
 ],
 "metadata": {
  "kernelspec": {
   "display_name": "Python 3 (ipykernel)",
   "language": "python",
   "name": "python3"
  },
  "language_info": {
   "codemirror_mode": {
    "name": "ipython",
    "version": 3
   },
   "file_extension": ".py",
   "mimetype": "text/x-python",
   "name": "python",
   "nbconvert_exporter": "python",
   "pygments_lexer": "ipython3",
   "version": "3.10.8"
  }
 },
 "nbformat": 4,
 "nbformat_minor": 5
}
